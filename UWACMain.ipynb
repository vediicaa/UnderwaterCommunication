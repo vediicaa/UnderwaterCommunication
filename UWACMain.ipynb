{
  "nbformat": 4,
  "nbformat_minor": 0,
  "metadata": {
    "colab": {
      "provenance": [],
      "include_colab_link": true
    },
    "kernelspec": {
      "name": "python3",
      "display_name": "Python 3"
    },
    "language_info": {
      "name": "python"
    }
  },
  "cells": [
    {
      "cell_type": "markdown",
      "metadata": {
        "id": "view-in-github",
        "colab_type": "text"
      },
      "source": [
        "<a href=\"https://colab.research.google.com/github/vediicaa/UnderwaterCommunication/blob/main/UWACMain.ipynb\" target=\"_parent\"><img src=\"https://colab.research.google.com/assets/colab-badge.svg\" alt=\"Open In Colab\"/></a>"
      ]
    },
    {
      "cell_type": "code",
      "execution_count": null,
      "metadata": {
        "id": "StNwjO4aau1G"
      },
      "outputs": [],
      "source": [
        "import librosa\n",
        "import librosa.display\n",
        "import IPython.display as ipd"
      ]
    },
    {
      "cell_type": "code",
      "source": [
        "import pandas as pd\n",
        "audio_dataset_path='DeepShip-main/'\n",
        "metadata=pd.read_csv('data.csv')\n",
        "metadata.head()"
      ],
      "metadata": {
        "colab": {
          "base_uri": "https://localhost:8080/",
          "height": 206
        },
        "id": "rs74tGn1b0pn",
        "outputId": "ca0b6323-8738-4516-ba36-00dff56fd8ad"
      },
      "execution_count": null,
      "outputs": [
        {
          "output_type": "execute_result",
          "data": {
            "text/plain": [
              "                   File_Paths  ClassID  Class  Fold\n",
              "0  DeepShip-main\\Cargo\\15.wav        1  Cargo    15\n",
              "1  DeepShip-main\\Cargo\\27.wav        1  Cargo    27\n",
              "2  DeepShip-main\\Cargo\\38.wav        1  Cargo    38\n",
              "3  DeepShip-main\\Cargo\\41.wav        1  Cargo    41\n",
              "4  DeepShip-main\\Cargo\\44.wav        1  Cargo    44"
            ],
            "text/html": [
              "\n",
              "  <div id=\"df-a4c0332d-449d-4359-a901-6135800d59e6\">\n",
              "    <div class=\"colab-df-container\">\n",
              "      <div>\n",
              "<style scoped>\n",
              "    .dataframe tbody tr th:only-of-type {\n",
              "        vertical-align: middle;\n",
              "    }\n",
              "\n",
              "    .dataframe tbody tr th {\n",
              "        vertical-align: top;\n",
              "    }\n",
              "\n",
              "    .dataframe thead th {\n",
              "        text-align: right;\n",
              "    }\n",
              "</style>\n",
              "<table border=\"1\" class=\"dataframe\">\n",
              "  <thead>\n",
              "    <tr style=\"text-align: right;\">\n",
              "      <th></th>\n",
              "      <th>File_Paths</th>\n",
              "      <th>ClassID</th>\n",
              "      <th>Class</th>\n",
              "      <th>Fold</th>\n",
              "    </tr>\n",
              "  </thead>\n",
              "  <tbody>\n",
              "    <tr>\n",
              "      <th>0</th>\n",
              "      <td>DeepShip-main\\Cargo\\15.wav</td>\n",
              "      <td>1</td>\n",
              "      <td>Cargo</td>\n",
              "      <td>15</td>\n",
              "    </tr>\n",
              "    <tr>\n",
              "      <th>1</th>\n",
              "      <td>DeepShip-main\\Cargo\\27.wav</td>\n",
              "      <td>1</td>\n",
              "      <td>Cargo</td>\n",
              "      <td>27</td>\n",
              "    </tr>\n",
              "    <tr>\n",
              "      <th>2</th>\n",
              "      <td>DeepShip-main\\Cargo\\38.wav</td>\n",
              "      <td>1</td>\n",
              "      <td>Cargo</td>\n",
              "      <td>38</td>\n",
              "    </tr>\n",
              "    <tr>\n",
              "      <th>3</th>\n",
              "      <td>DeepShip-main\\Cargo\\41.wav</td>\n",
              "      <td>1</td>\n",
              "      <td>Cargo</td>\n",
              "      <td>41</td>\n",
              "    </tr>\n",
              "    <tr>\n",
              "      <th>4</th>\n",
              "      <td>DeepShip-main\\Cargo\\44.wav</td>\n",
              "      <td>1</td>\n",
              "      <td>Cargo</td>\n",
              "      <td>44</td>\n",
              "    </tr>\n",
              "  </tbody>\n",
              "</table>\n",
              "</div>\n",
              "      <button class=\"colab-df-convert\" onclick=\"convertToInteractive('df-a4c0332d-449d-4359-a901-6135800d59e6')\"\n",
              "              title=\"Convert this dataframe to an interactive table.\"\n",
              "              style=\"display:none;\">\n",
              "        \n",
              "  <svg xmlns=\"http://www.w3.org/2000/svg\" height=\"24px\"viewBox=\"0 0 24 24\"\n",
              "       width=\"24px\">\n",
              "    <path d=\"M0 0h24v24H0V0z\" fill=\"none\"/>\n",
              "    <path d=\"M18.56 5.44l.94 2.06.94-2.06 2.06-.94-2.06-.94-.94-2.06-.94 2.06-2.06.94zm-11 1L8.5 8.5l.94-2.06 2.06-.94-2.06-.94L8.5 2.5l-.94 2.06-2.06.94zm10 10l.94 2.06.94-2.06 2.06-.94-2.06-.94-.94-2.06-.94 2.06-2.06.94z\"/><path d=\"M17.41 7.96l-1.37-1.37c-.4-.4-.92-.59-1.43-.59-.52 0-1.04.2-1.43.59L10.3 9.45l-7.72 7.72c-.78.78-.78 2.05 0 2.83L4 21.41c.39.39.9.59 1.41.59.51 0 1.02-.2 1.41-.59l7.78-7.78 2.81-2.81c.8-.78.8-2.07 0-2.86zM5.41 20L4 18.59l7.72-7.72 1.47 1.35L5.41 20z\"/>\n",
              "  </svg>\n",
              "      </button>\n",
              "      \n",
              "  <style>\n",
              "    .colab-df-container {\n",
              "      display:flex;\n",
              "      flex-wrap:wrap;\n",
              "      gap: 12px;\n",
              "    }\n",
              "\n",
              "    .colab-df-convert {\n",
              "      background-color: #E8F0FE;\n",
              "      border: none;\n",
              "      border-radius: 50%;\n",
              "      cursor: pointer;\n",
              "      display: none;\n",
              "      fill: #1967D2;\n",
              "      height: 32px;\n",
              "      padding: 0 0 0 0;\n",
              "      width: 32px;\n",
              "    }\n",
              "\n",
              "    .colab-df-convert:hover {\n",
              "      background-color: #E2EBFA;\n",
              "      box-shadow: 0px 1px 2px rgba(60, 64, 67, 0.3), 0px 1px 3px 1px rgba(60, 64, 67, 0.15);\n",
              "      fill: #174EA6;\n",
              "    }\n",
              "\n",
              "    [theme=dark] .colab-df-convert {\n",
              "      background-color: #3B4455;\n",
              "      fill: #D2E3FC;\n",
              "    }\n",
              "\n",
              "    [theme=dark] .colab-df-convert:hover {\n",
              "      background-color: #434B5C;\n",
              "      box-shadow: 0px 1px 3px 1px rgba(0, 0, 0, 0.15);\n",
              "      filter: drop-shadow(0px 1px 2px rgba(0, 0, 0, 0.3));\n",
              "      fill: #FFFFFF;\n",
              "    }\n",
              "  </style>\n",
              "\n",
              "      <script>\n",
              "        const buttonEl =\n",
              "          document.querySelector('#df-a4c0332d-449d-4359-a901-6135800d59e6 button.colab-df-convert');\n",
              "        buttonEl.style.display =\n",
              "          google.colab.kernel.accessAllowed ? 'block' : 'none';\n",
              "\n",
              "        async function convertToInteractive(key) {\n",
              "          const element = document.querySelector('#df-a4c0332d-449d-4359-a901-6135800d59e6');\n",
              "          const dataTable =\n",
              "            await google.colab.kernel.invokeFunction('convertToInteractive',\n",
              "                                                     [key], {});\n",
              "          if (!dataTable) return;\n",
              "\n",
              "          const docLinkHtml = 'Like what you see? Visit the ' +\n",
              "            '<a target=\"_blank\" href=https://colab.research.google.com/notebooks/data_table.ipynb>data table notebook</a>'\n",
              "            + ' to learn more about interactive tables.';\n",
              "          element.innerHTML = '';\n",
              "          dataTable['output_type'] = 'display_data';\n",
              "          await google.colab.output.renderOutput(dataTable, element);\n",
              "          const docLink = document.createElement('div');\n",
              "          docLink.innerHTML = docLinkHtml;\n",
              "          element.appendChild(docLink);\n",
              "        }\n",
              "      </script>\n",
              "    </div>\n",
              "  </div>\n",
              "  "
            ]
          },
          "metadata": {},
          "execution_count": 60
        }
      ]
    },
    {
      "cell_type": "code",
      "source": [
        "import csv\n",
        "with open('data.csv') as file_obj:\n",
        "\n",
        "  heading=next(file_obj)\n",
        "\n",
        "  reader_obj=csv.reader(file_obj)\n",
        "\n",
        "  for row in reader_obj:\n",
        "    print(row[0])"
      ],
      "metadata": {
        "colab": {
          "base_uri": "https://localhost:8080/"
        },
        "id": "ElLRQRRnH-et",
        "outputId": "894a7080-5d79-4336-873a-25578284213a"
      },
      "execution_count": null,
      "outputs": [
        {
          "output_type": "stream",
          "name": "stdout",
          "text": [
            "DeepShip-main\\Cargo\\15.wav\n",
            "DeepShip-main\\Cargo\\27.wav\n",
            "DeepShip-main\\Cargo\\38.wav\n",
            "DeepShip-main\\Cargo\\41.wav\n",
            "DeepShip-main\\Cargo\\44.wav\n",
            "DeepShip-main\\Cargo\\62.wav\n",
            "DeepShip-main\\Cargo\\69.wav\n",
            "DeepShip-main\\Cargo\\78.wav\n",
            "DeepShip-main\\Cargo\\96.wav\n",
            "DeepShip-main\\Cargo\\99.wav\n",
            "DeepShip-main\\Cargo\\103.wav\n",
            "DeepShip-main\\Cargo\\110.wav\n",
            "DeepShip-main\\Passengership\\1.wav\n",
            "DeepShip-main\\Passengership\\4.wav\n",
            "DeepShip-main\\Passengership\\5.wav\n",
            "DeepShip-main\\Passengership\\6.wav\n",
            "DeepShip-main\\Passengership\\8.wav\n",
            "DeepShip-main\\Passengership\\9.wav\n",
            "DeepShip-main\\Passengership\\12.wav\n",
            "DeepShip-main\\Passengership\\14.wav\n",
            "DeepShip-main\\Passengership\\16.wav\n",
            "DeepShip-main\\Passengership\\17.wav\n",
            "DeepShip-main\\Passengership\\23.wav\n",
            "DeepShip-main\\Passengership\\27.wav\n",
            "DeepShip-main\\Passengership\\29.wav\n",
            "DeepShip-main\\Passengership\\30.wav\n",
            "DeepShip-main\\Passengership\\31.wav\n",
            "DeepShip-main\\Passengership\\32.wav\n",
            "DeepShip-main\\Passengership\\33.wav\n",
            "DeepShip-main\\Passengership\\37.wav\n",
            "DeepShip-main\\Passengership\\41.wav\n",
            "DeepShip-main\\Passengership\\50.wav\n",
            "DeepShip-main\\Tanker\\2.wav\n",
            "DeepShip-main\\Tanker\\5.wav\n",
            "DeepShip-main\\Tanker\\6.wav\n",
            "DeepShip-main\\Tanker\\8.wav\n",
            "DeepShip-main\\Tanker\\9.wav\n",
            "DeepShip-main\\Tanker\\10.wav\n",
            "DeepShip-main\\Tanker\\12.wav\n",
            "DeepShip-main\\Tanker\\13.wav\n",
            "DeepShip-main\\Tanker\\14.wav\n",
            "DeepShip-main\\Tanker\\18.wav\n",
            "DeepShip-main\\Tanker\\19.wav\n",
            "DeepShip-main\\Tanker\\20.wav\n",
            "DeepShip-main\\Tanker\\21.wav\n",
            "DeepShip-main\\Tanker\\24.wav\n",
            "DeepShip-main\\Tanker\\29.wav\n",
            "DeepShip-main\\Tanker\\30.wav\n",
            "DeepShip-main\\Tanker\\32.wav\n",
            "DeepShip-main\\Tanker\\33.wav\n",
            "DeepShip-main\\Tanker\\35.wav\n",
            "DeepShip-main\\Tanker\\38.wav\n",
            "DeepShip-main\\Tanker\\39.wav\n",
            "DeepShip-main\\Tanker\\41.wav\n",
            "DeepShip-main\\Tanker\\42.wav\n",
            "DeepShip-main\\Tanker\\43.wav\n",
            "DeepShip-main\\Tanker\\47.wav\n",
            "DeepShip-main\\Tanker\\48.wav\n",
            "DeepShip-main\\Tanker\\49.wav\n",
            "DeepShip-main\\Tanker\\50.wav\n",
            "DeepShip-main\\Tug\\9.wav\n",
            "DeepShip-main\\Tug\\40.wav\n",
            "DeepShip-main\\Tug\\49.wav\n"
          ]
        }
      ]
    },
    {
      "cell_type": "code",
      "source": [
        "metadata['ClassID'].value_counts()"
      ],
      "metadata": {
        "colab": {
          "base_uri": "https://localhost:8080/"
        },
        "id": "-xWfzP0TdVrQ",
        "outputId": "3e7959b3-5e3d-454a-b995-a2c44f058721"
      },
      "execution_count": null,
      "outputs": [
        {
          "output_type": "execute_result",
          "data": {
            "text/plain": [
              "3    28\n",
              "2    20\n",
              "1    12\n",
              "4     3\n",
              "Name: ClassID, dtype: int64"
            ]
          },
          "metadata": {},
          "execution_count": 61
        }
      ]
    },
    {
      "cell_type": "code",
      "source": [
        "from google.colab import drive\n",
        "drive.mount('/content/gdrive')"
      ],
      "metadata": {
        "colab": {
          "base_uri": "https://localhost:8080/"
        },
        "id": "b_zHw78jhWoV",
        "outputId": "79f3ca4a-7ec0-406f-dccc-c3591bb40c34"
      },
      "execution_count": null,
      "outputs": [
        {
          "output_type": "stream",
          "name": "stdout",
          "text": [
            "Drive already mounted at /content/gdrive; to attempt to forcibly remount, call drive.mount(\"/content/gdrive\", force_remount=True).\n"
          ]
        }
      ]
    },
    {
      "cell_type": "code",
      "source": [
        "!unzip gdrive/My\\ Drive/DeepShip-main.zip"
      ],
      "metadata": {
        "colab": {
          "base_uri": "https://localhost:8080/"
        },
        "id": "Kvh0__jxn1m5",
        "outputId": "e6254082-5291-442d-9db8-15f4d294011c"
      },
      "execution_count": null,
      "outputs": [
        {
          "output_type": "stream",
          "name": "stdout",
          "text": [
            "Archive:  gdrive/My Drive/DeepShip-main.zip\n",
            "replace DeepShip-main/Cargo/103.wav? [y]es, [n]o, [A]ll, [N]one, [r]ename: "
          ]
        }
      ]
    },
    {
      "cell_type": "markdown",
      "source": [
        "SAMPLING OF AUDIO SIGNAL"
      ],
      "metadata": {
        "id": "mrTI8GgGoubr"
      }
    },
    {
      "cell_type": "code",
      "source": [
        "def features_extractor(file):\n",
        "  audio, sample_rate=librosa.load(file,res_type='kaiser_fast')\n",
        "  mfccs_features=librosa.feature.mfcc(y=audio,sr=sample_rate,n_mfcc=40)\n",
        "  mfccs_scaled_features=np.mean(mfccs_features.T,axis=0)\n",
        "  return mfccs_scaled_features"
      ],
      "metadata": {
        "id": "7FoUZ7q7fHKZ"
      },
      "execution_count": null,
      "outputs": []
    },
    {
      "cell_type": "code",
      "source": [
        "import numpy as np\n",
        "import csv\n",
        "with open('data.csv') as file_obj:\n",
        "\n",
        "  heading=next(file_obj)\n",
        "\n",
        "  reader_obj=csv.reader(file_obj)\n",
        "\n",
        "  extracted_features=[]\n",
        "  for row in reader_obj:\n",
        "    file_path=\"/content/DeepShip-main/\"+row[2]+\"/\"+row[3]+\".wav\"\n",
        "    print(file_path)\n",
        "    final_class_labels=row[2]\n",
        "    print(final_class_labels)\n",
        "    data=features_extractor(file_path)\n",
        "    extracted_features.append([data,final_class_labels])"
      ],
      "metadata": {
        "colab": {
          "base_uri": "https://localhost:8080/"
        },
        "id": "Fi-bHjIqMhr4",
        "outputId": "da6ed68e-0e85-466a-b952-7f8b2a9b7d89"
      },
      "execution_count": null,
      "outputs": [
        {
          "output_type": "stream",
          "name": "stdout",
          "text": [
            "/content/DeepShip-main/Cargo/15.wav\n",
            "Cargo\n",
            "/content/DeepShip-main/Cargo/27.wav\n",
            "Cargo\n",
            "/content/DeepShip-main/Cargo/38.wav\n",
            "Cargo\n",
            "/content/DeepShip-main/Cargo/41.wav\n",
            "Cargo\n",
            "/content/DeepShip-main/Cargo/44.wav\n",
            "Cargo\n",
            "/content/DeepShip-main/Cargo/62.wav\n",
            "Cargo\n",
            "/content/DeepShip-main/Cargo/69.wav\n",
            "Cargo\n",
            "/content/DeepShip-main/Cargo/78.wav\n",
            "Cargo\n",
            "/content/DeepShip-main/Cargo/96.wav\n",
            "Cargo\n",
            "/content/DeepShip-main/Cargo/99.wav\n",
            "Cargo\n",
            "/content/DeepShip-main/Cargo/103.wav\n",
            "Cargo\n",
            "/content/DeepShip-main/Cargo/110.wav\n",
            "Cargo\n",
            "/content/DeepShip-main/Passengership/1.wav\n",
            "Passengership\n",
            "/content/DeepShip-main/Passengership/4.wav\n",
            "Passengership\n",
            "/content/DeepShip-main/Passengership/5.wav\n",
            "Passengership\n",
            "/content/DeepShip-main/Passengership/6.wav\n",
            "Passengership\n",
            "/content/DeepShip-main/Passengership/8.wav\n",
            "Passengership\n",
            "/content/DeepShip-main/Passengership/9.wav\n",
            "Passengership\n",
            "/content/DeepShip-main/Passengership/12.wav\n",
            "Passengership\n",
            "/content/DeepShip-main/Passengership/14.wav\n",
            "Passengership\n",
            "/content/DeepShip-main/Passengership/16.wav\n",
            "Passengership\n",
            "/content/DeepShip-main/Passengership/17.wav\n",
            "Passengership\n",
            "/content/DeepShip-main/Passengership/23.wav\n",
            "Passengership\n",
            "/content/DeepShip-main/Passengership/27.wav\n",
            "Passengership\n",
            "/content/DeepShip-main/Passengership/29.wav\n",
            "Passengership\n",
            "/content/DeepShip-main/Passengership/30.wav\n",
            "Passengership\n",
            "/content/DeepShip-main/Passengership/31.wav\n",
            "Passengership\n",
            "/content/DeepShip-main/Passengership/32.wav\n",
            "Passengership\n",
            "/content/DeepShip-main/Passengership/33.wav\n",
            "Passengership\n",
            "/content/DeepShip-main/Passengership/37.wav\n",
            "Passengership\n",
            "/content/DeepShip-main/Passengership/41.wav\n",
            "Passengership\n",
            "/content/DeepShip-main/Passengership/50.wav\n",
            "Passengership\n",
            "/content/DeepShip-main/Tanker/2.wav\n",
            "Tanker\n",
            "/content/DeepShip-main/Tanker/5.wav\n",
            "Tanker\n",
            "/content/DeepShip-main/Tanker/6.wav\n",
            "Tanker\n",
            "/content/DeepShip-main/Tanker/8.wav\n",
            "Tanker\n",
            "/content/DeepShip-main/Tanker/9.wav\n",
            "Tanker\n",
            "/content/DeepShip-main/Tanker/10.wav\n",
            "Tanker\n",
            "/content/DeepShip-main/Tanker/12.wav\n",
            "Tanker\n",
            "/content/DeepShip-main/Tanker/13.wav\n",
            "Tanker\n",
            "/content/DeepShip-main/Tanker/14.wav\n",
            "Tanker\n",
            "/content/DeepShip-main/Tanker/18.wav\n",
            "Tanker\n",
            "/content/DeepShip-main/Tanker/19.wav\n",
            "Tanker\n",
            "/content/DeepShip-main/Tanker/20.wav\n",
            "Tanker\n",
            "/content/DeepShip-main/Tanker/21.wav\n",
            "Tanker\n",
            "/content/DeepShip-main/Tanker/24.wav\n",
            "Tanker\n",
            "/content/DeepShip-main/Tanker/29.wav\n",
            "Tanker\n",
            "/content/DeepShip-main/Tanker/30.wav\n",
            "Tanker\n",
            "/content/DeepShip-main/Tanker/32.wav\n",
            "Tanker\n",
            "/content/DeepShip-main/Tanker/33.wav\n",
            "Tanker\n",
            "/content/DeepShip-main/Tanker/35.wav\n",
            "Tanker\n",
            "/content/DeepShip-main/Tanker/38.wav\n",
            "Tanker\n",
            "/content/DeepShip-main/Tanker/39.wav\n",
            "Tanker\n",
            "/content/DeepShip-main/Tanker/41.wav\n",
            "Tanker\n",
            "/content/DeepShip-main/Tanker/42.wav\n",
            "Tanker\n",
            "/content/DeepShip-main/Tanker/43.wav\n",
            "Tanker\n",
            "/content/DeepShip-main/Tanker/47.wav\n",
            "Tanker\n",
            "/content/DeepShip-main/Tanker/48.wav\n",
            "Tanker\n",
            "/content/DeepShip-main/Tanker/49.wav\n",
            "Tanker\n",
            "/content/DeepShip-main/Tanker/50.wav\n",
            "Tanker\n",
            "/content/DeepShip-main/Tug/9.wav\n",
            "Tug\n",
            "/content/DeepShip-main/Tug/40.wav\n",
            "Tug\n",
            "/content/DeepShip-main/Tug/49.wav\n",
            "Tug\n"
          ]
        }
      ]
    },
    {
      "cell_type": "code",
      "source": [
        "extracted_features_df=pd.DataFrame(extracted_features,columns=['feature','class'])\n",
        "extracted_features_df.head()"
      ],
      "metadata": {
        "colab": {
          "base_uri": "https://localhost:8080/",
          "height": 206
        },
        "id": "9fARbMIDTODV",
        "outputId": "7853cd05-0289-4a50-f525-80a9534d77c8"
      },
      "execution_count": null,
      "outputs": [
        {
          "output_type": "execute_result",
          "data": {
            "text/plain": [
              "                                             feature  class\n",
              "0  [-497.4932, 82.472885, 8.546376, 31.442095, 0....  Cargo\n",
              "1  [-408.21173, 100.41154, -18.797106, 21.909834,...  Cargo\n",
              "2  [-357.36914, 91.75116, 1.9373418, 31.606525, -...  Cargo\n",
              "3  [-369.7756, 98.46558, -20.586966, 21.333632, -...  Cargo\n",
              "4  [-343.44107, 97.65184, 3.36091, 25.89166, 0.22...  Cargo"
            ],
            "text/html": [
              "\n",
              "  <div id=\"df-5094d61d-f197-4900-829d-2575ccf25d42\">\n",
              "    <div class=\"colab-df-container\">\n",
              "      <div>\n",
              "<style scoped>\n",
              "    .dataframe tbody tr th:only-of-type {\n",
              "        vertical-align: middle;\n",
              "    }\n",
              "\n",
              "    .dataframe tbody tr th {\n",
              "        vertical-align: top;\n",
              "    }\n",
              "\n",
              "    .dataframe thead th {\n",
              "        text-align: right;\n",
              "    }\n",
              "</style>\n",
              "<table border=\"1\" class=\"dataframe\">\n",
              "  <thead>\n",
              "    <tr style=\"text-align: right;\">\n",
              "      <th></th>\n",
              "      <th>feature</th>\n",
              "      <th>class</th>\n",
              "    </tr>\n",
              "  </thead>\n",
              "  <tbody>\n",
              "    <tr>\n",
              "      <th>0</th>\n",
              "      <td>[-497.4932, 82.472885, 8.546376, 31.442095, 0....</td>\n",
              "      <td>Cargo</td>\n",
              "    </tr>\n",
              "    <tr>\n",
              "      <th>1</th>\n",
              "      <td>[-408.21173, 100.41154, -18.797106, 21.909834,...</td>\n",
              "      <td>Cargo</td>\n",
              "    </tr>\n",
              "    <tr>\n",
              "      <th>2</th>\n",
              "      <td>[-357.36914, 91.75116, 1.9373418, 31.606525, -...</td>\n",
              "      <td>Cargo</td>\n",
              "    </tr>\n",
              "    <tr>\n",
              "      <th>3</th>\n",
              "      <td>[-369.7756, 98.46558, -20.586966, 21.333632, -...</td>\n",
              "      <td>Cargo</td>\n",
              "    </tr>\n",
              "    <tr>\n",
              "      <th>4</th>\n",
              "      <td>[-343.44107, 97.65184, 3.36091, 25.89166, 0.22...</td>\n",
              "      <td>Cargo</td>\n",
              "    </tr>\n",
              "  </tbody>\n",
              "</table>\n",
              "</div>\n",
              "      <button class=\"colab-df-convert\" onclick=\"convertToInteractive('df-5094d61d-f197-4900-829d-2575ccf25d42')\"\n",
              "              title=\"Convert this dataframe to an interactive table.\"\n",
              "              style=\"display:none;\">\n",
              "        \n",
              "  <svg xmlns=\"http://www.w3.org/2000/svg\" height=\"24px\"viewBox=\"0 0 24 24\"\n",
              "       width=\"24px\">\n",
              "    <path d=\"M0 0h24v24H0V0z\" fill=\"none\"/>\n",
              "    <path d=\"M18.56 5.44l.94 2.06.94-2.06 2.06-.94-2.06-.94-.94-2.06-.94 2.06-2.06.94zm-11 1L8.5 8.5l.94-2.06 2.06-.94-2.06-.94L8.5 2.5l-.94 2.06-2.06.94zm10 10l.94 2.06.94-2.06 2.06-.94-2.06-.94-.94-2.06-.94 2.06-2.06.94z\"/><path d=\"M17.41 7.96l-1.37-1.37c-.4-.4-.92-.59-1.43-.59-.52 0-1.04.2-1.43.59L10.3 9.45l-7.72 7.72c-.78.78-.78 2.05 0 2.83L4 21.41c.39.39.9.59 1.41.59.51 0 1.02-.2 1.41-.59l7.78-7.78 2.81-2.81c.8-.78.8-2.07 0-2.86zM5.41 20L4 18.59l7.72-7.72 1.47 1.35L5.41 20z\"/>\n",
              "  </svg>\n",
              "      </button>\n",
              "      \n",
              "  <style>\n",
              "    .colab-df-container {\n",
              "      display:flex;\n",
              "      flex-wrap:wrap;\n",
              "      gap: 12px;\n",
              "    }\n",
              "\n",
              "    .colab-df-convert {\n",
              "      background-color: #E8F0FE;\n",
              "      border: none;\n",
              "      border-radius: 50%;\n",
              "      cursor: pointer;\n",
              "      display: none;\n",
              "      fill: #1967D2;\n",
              "      height: 32px;\n",
              "      padding: 0 0 0 0;\n",
              "      width: 32px;\n",
              "    }\n",
              "\n",
              "    .colab-df-convert:hover {\n",
              "      background-color: #E2EBFA;\n",
              "      box-shadow: 0px 1px 2px rgba(60, 64, 67, 0.3), 0px 1px 3px 1px rgba(60, 64, 67, 0.15);\n",
              "      fill: #174EA6;\n",
              "    }\n",
              "\n",
              "    [theme=dark] .colab-df-convert {\n",
              "      background-color: #3B4455;\n",
              "      fill: #D2E3FC;\n",
              "    }\n",
              "\n",
              "    [theme=dark] .colab-df-convert:hover {\n",
              "      background-color: #434B5C;\n",
              "      box-shadow: 0px 1px 3px 1px rgba(0, 0, 0, 0.15);\n",
              "      filter: drop-shadow(0px 1px 2px rgba(0, 0, 0, 0.3));\n",
              "      fill: #FFFFFF;\n",
              "    }\n",
              "  </style>\n",
              "\n",
              "      <script>\n",
              "        const buttonEl =\n",
              "          document.querySelector('#df-5094d61d-f197-4900-829d-2575ccf25d42 button.colab-df-convert');\n",
              "        buttonEl.style.display =\n",
              "          google.colab.kernel.accessAllowed ? 'block' : 'none';\n",
              "\n",
              "        async function convertToInteractive(key) {\n",
              "          const element = document.querySelector('#df-5094d61d-f197-4900-829d-2575ccf25d42');\n",
              "          const dataTable =\n",
              "            await google.colab.kernel.invokeFunction('convertToInteractive',\n",
              "                                                     [key], {});\n",
              "          if (!dataTable) return;\n",
              "\n",
              "          const docLinkHtml = 'Like what you see? Visit the ' +\n",
              "            '<a target=\"_blank\" href=https://colab.research.google.com/notebooks/data_table.ipynb>data table notebook</a>'\n",
              "            + ' to learn more about interactive tables.';\n",
              "          element.innerHTML = '';\n",
              "          dataTable['output_type'] = 'display_data';\n",
              "          await google.colab.output.renderOutput(dataTable, element);\n",
              "          const docLink = document.createElement('div');\n",
              "          docLink.innerHTML = docLinkHtml;\n",
              "          element.appendChild(docLink);\n",
              "        }\n",
              "      </script>\n",
              "    </div>\n",
              "  </div>\n",
              "  "
            ]
          },
          "metadata": {},
          "execution_count": 100
        }
      ]
    },
    {
      "cell_type": "code",
      "source": [
        "X=np.array(extracted_features_df['feature'].tolist())\n",
        "y=np.array(extracted_features_df['class'].tolist())"
      ],
      "metadata": {
        "id": "Vj3bPcGAUk3g"
      },
      "execution_count": null,
      "outputs": []
    },
    {
      "cell_type": "code",
      "source": [
        "X.shape"
      ],
      "metadata": {
        "colab": {
          "base_uri": "https://localhost:8080/"
        },
        "id": "6zt9z4pOU7iC",
        "outputId": "56cb1bf0-6acc-4e99-f31b-d39a67587a7e"
      },
      "execution_count": null,
      "outputs": [
        {
          "output_type": "execute_result",
          "data": {
            "text/plain": [
              "(63, 40)"
            ]
          },
          "metadata": {},
          "execution_count": 102
        }
      ]
    },
    {
      "cell_type": "code",
      "source": [
        "y.shape"
      ],
      "metadata": {
        "colab": {
          "base_uri": "https://localhost:8080/"
        },
        "id": "dLOumXzhU_4z",
        "outputId": "feb88587-a419-421c-cf26-83a680b13b84"
      },
      "execution_count": null,
      "outputs": [
        {
          "output_type": "execute_result",
          "data": {
            "text/plain": [
              "(63, 4)"
            ]
          },
          "metadata": {},
          "execution_count": 110
        }
      ]
    },
    {
      "cell_type": "code",
      "source": [
        "from sklearn.model_selection import train_test_split\n",
        "X_train,X_test,y_train,y_test=train_test_split(X,y,test_size=0.2,random_state=0)"
      ],
      "metadata": {
        "id": "qE2VjdyoW0DB"
      },
      "execution_count": null,
      "outputs": []
    },
    {
      "cell_type": "code",
      "source": [
        "X_train"
      ],
      "metadata": {
        "colab": {
          "base_uri": "https://localhost:8080/"
        },
        "id": "S2AADFMLXydd",
        "outputId": "87bb1902-c686-4bd6-e181-c086b22f74e8"
      },
      "execution_count": null,
      "outputs": [
        {
          "output_type": "execute_result",
          "data": {
            "text/plain": [
              "array([[-4.89335297e+02,  1.25075111e+02,  1.06331215e+01, ...,\n",
              "        -4.60950345e-01,  1.06904650e+00,  9.11832273e-01],\n",
              "       [-4.77587372e+02,  1.05902084e+02, -1.59469986e+00, ...,\n",
              "         1.35241345e-01,  2.93141985e+00, -7.68813267e-02],\n",
              "       [-4.96869995e+02,  9.92153168e+01,  1.34189806e+01, ...,\n",
              "         1.97154808e+00,  4.11144257e+00,  2.19703317e+00],\n",
              "       ...,\n",
              "       [-3.71694092e+02,  1.22328499e+02,  7.57760048e+00, ...,\n",
              "         2.76211977e+00,  4.50668907e+00,  4.64020252e+00],\n",
              "       [-4.27855438e+02,  9.25802231e+01,  1.23981267e-01, ...,\n",
              "         1.88858032e+00,  2.04313087e+00,  1.20679605e+00],\n",
              "       [-4.88160431e+02,  8.32000427e+01,  4.22615576e+00, ...,\n",
              "         1.15257120e+00,  2.80677128e+00,  1.60628009e+00]], dtype=float32)"
            ]
          },
          "metadata": {},
          "execution_count": 116
        }
      ]
    },
    {
      "cell_type": "code",
      "source": [
        "X_train.shape"
      ],
      "metadata": {
        "colab": {
          "base_uri": "https://localhost:8080/"
        },
        "id": "ooIo-wXaXQZj",
        "outputId": "9d72e2c1-4904-4c28-eff5-c0b5dc77c759"
      },
      "execution_count": null,
      "outputs": [
        {
          "output_type": "execute_result",
          "data": {
            "text/plain": [
              "(50, 40)"
            ]
          },
          "metadata": {},
          "execution_count": 112
        }
      ]
    },
    {
      "cell_type": "code",
      "source": [
        "X_test.shape"
      ],
      "metadata": {
        "colab": {
          "base_uri": "https://localhost:8080/"
        },
        "id": "d3IvvjpzXTv3",
        "outputId": "174eb84b-3d36-4c43-d04a-61b71ef50aba"
      },
      "execution_count": null,
      "outputs": [
        {
          "output_type": "execute_result",
          "data": {
            "text/plain": [
              "(13, 40)"
            ]
          },
          "metadata": {},
          "execution_count": 113
        }
      ]
    },
    {
      "cell_type": "code",
      "source": [
        "y_train.shape"
      ],
      "metadata": {
        "colab": {
          "base_uri": "https://localhost:8080/"
        },
        "id": "zO8972E8XWz8",
        "outputId": "515f5291-f172-46a0-bb5e-386045230d8b"
      },
      "execution_count": null,
      "outputs": [
        {
          "output_type": "execute_result",
          "data": {
            "text/plain": [
              "(50, 4)"
            ]
          },
          "metadata": {},
          "execution_count": 114
        }
      ]
    },
    {
      "cell_type": "code",
      "source": [
        "y_test.shape"
      ],
      "metadata": {
        "colab": {
          "base_uri": "https://localhost:8080/"
        },
        "id": "ZMW5_zwRXaYY",
        "outputId": "4703e983-7611-45fb-9c2e-407632436140"
      },
      "execution_count": null,
      "outputs": [
        {
          "output_type": "execute_result",
          "data": {
            "text/plain": [
              "(13, 4)"
            ]
          },
          "metadata": {},
          "execution_count": 115
        }
      ]
    },
    {
      "cell_type": "markdown",
      "source": [
        "MODEL Creation"
      ],
      "metadata": {
        "id": "BzdTL84hYD_J"
      }
    },
    {
      "cell_type": "code",
      "source": [
        "import tensorflow as tf\n",
        "print(tf.__version__)"
      ],
      "metadata": {
        "colab": {
          "base_uri": "https://localhost:8080/"
        },
        "id": "tNaEoP_GYGS5",
        "outputId": "e5ac0c02-ed84-484a-c505-b94d2292aecf"
      },
      "execution_count": null,
      "outputs": [
        {
          "output_type": "stream",
          "name": "stdout",
          "text": [
            "2.9.2\n"
          ]
        }
      ]
    },
    {
      "cell_type": "code",
      "source": [
        "from tensorflow.keras.models import Sequential\n",
        "from tensorflow.keras.layers import Dense,Dropout,Activation,Flatten\n",
        "from tensorflow.keras.optimizers import Adam\n",
        "from sklearn import metrics"
      ],
      "metadata": {
        "id": "5QZPcuksYWuu"
      },
      "execution_count": null,
      "outputs": []
    },
    {
      "cell_type": "code",
      "source": [
        "num_labels=y.shape[1]"
      ],
      "metadata": {
        "id": "scSSp7IgY4az"
      },
      "execution_count": null,
      "outputs": []
    },
    {
      "cell_type": "code",
      "source": [
        "model=Sequential()\n",
        "###first layer\n",
        "model.add(Dense(100,input_shape=(40,)))\n",
        "model.add(Activation('relu'))\n",
        "model.add(Dropout(0.5))\n",
        "###second layer\n",
        "model.add(Dense(200))\n",
        "model.add(Activation('relu'))\n",
        "model.add(Dropout(0.5))\n",
        "###third layer\n",
        "model.add(Dense(100))\n",
        "model.add(Activation('relu'))\n",
        "model.add(Dropout(0.5))\n",
        "\n",
        "###final layer\n",
        "model.add(Dense(num_labels))\n",
        "model.add(Activation('softmax'))"
      ],
      "metadata": {
        "id": "ejqthqK2ZEzh"
      },
      "execution_count": null,
      "outputs": []
    },
    {
      "cell_type": "code",
      "source": [
        "model.summary()"
      ],
      "metadata": {
        "colab": {
          "base_uri": "https://localhost:8080/"
        },
        "id": "aEcl4XKWZiWA",
        "outputId": "4ff8760c-51f5-4770-9e1c-71c6ca763c46"
      },
      "execution_count": null,
      "outputs": [
        {
          "output_type": "stream",
          "name": "stdout",
          "text": [
            "Model: \"sequential_1\"\n",
            "_________________________________________________________________\n",
            " Layer (type)                Output Shape              Param #   \n",
            "=================================================================\n",
            " dense_2 (Dense)             (None, 100)               4100      \n",
            "                                                                 \n",
            " activation_1 (Activation)   (None, 100)               0         \n",
            "                                                                 \n",
            " dropout_1 (Dropout)         (None, 100)               0         \n",
            "                                                                 \n",
            " dense_3 (Dense)             (None, 200)               20200     \n",
            "                                                                 \n",
            " activation_2 (Activation)   (None, 200)               0         \n",
            "                                                                 \n",
            " dropout_2 (Dropout)         (None, 200)               0         \n",
            "                                                                 \n",
            " dense_4 (Dense)             (None, 100)               20100     \n",
            "                                                                 \n",
            " activation_3 (Activation)   (None, 100)               0         \n",
            "                                                                 \n",
            " dropout_3 (Dropout)         (None, 100)               0         \n",
            "                                                                 \n",
            " dense_5 (Dense)             (None, 4)                 404       \n",
            "                                                                 \n",
            " activation_4 (Activation)   (None, 4)                 0         \n",
            "                                                                 \n",
            "=================================================================\n",
            "Total params: 44,804\n",
            "Trainable params: 44,804\n",
            "Non-trainable params: 0\n",
            "_________________________________________________________________\n"
          ]
        }
      ]
    },
    {
      "cell_type": "code",
      "source": [
        "model.compile(loss='categorical_crossentropy',metrics=['accuracy'],optimizer='adam')"
      ],
      "metadata": {
        "id": "M6eMsiBwaGAZ"
      },
      "execution_count": null,
      "outputs": []
    },
    {
      "cell_type": "code",
      "source": [
        "from tensorflow.keras.callbacks import ModelCheckpoint\n",
        "from datetime import datetime\n",
        "\n",
        "num_epochs=50\n",
        "num_batch_size=32\n",
        "\n",
        "checkpointer=ModelCheckpoint(filepath='saved_model/audio_classification.hdf5',verbose=1,save_best_only=True)\n",
        "start=datetime.now()\n",
        "\n",
        "model.fit(X_train, y_train, batch_size=num_batch_size, epochs=num_epochs,validation_data=(X_test,y_test), callbacks=[checkpointer])\n",
        "\n",
        "duration= datetime.now()-start\n",
        "print(\"Training completed in time: \",duration)"
      ],
      "metadata": {
        "colab": {
          "base_uri": "https://localhost:8080/"
        },
        "id": "sJSm2j_xattY",
        "outputId": "629d2a35-0496-4008-f284-dafb97f8e5fd"
      },
      "execution_count": null,
      "outputs": [
        {
          "output_type": "stream",
          "name": "stdout",
          "text": [
            "Epoch 1/50\n",
            "1/2 [==============>...............] - ETA: 0s - loss: 1.5124 - accuracy: 0.4062\n",
            "Epoch 1: val_loss improved from inf to 1.33899, saving model to saved_model/audio_classification.hdf5\n",
            "2/2 [==============================] - 0s 128ms/step - loss: 1.5813 - accuracy: 0.3800 - val_loss: 1.3390 - val_accuracy: 0.1538\n",
            "Epoch 2/50\n",
            "1/2 [==============>...............] - ETA: 0s - loss: 1.2061 - accuracy: 0.4375\n",
            "Epoch 2: val_loss improved from 1.33899 to 1.33883, saving model to saved_model/audio_classification.hdf5\n",
            "2/2 [==============================] - 0s 100ms/step - loss: 1.1941 - accuracy: 0.4400 - val_loss: 1.3388 - val_accuracy: 0.1538\n",
            "Epoch 3/50\n",
            "1/2 [==============>...............] - ETA: 0s - loss: 1.0726 - accuracy: 0.3125\n",
            "Epoch 3: val_loss did not improve from 1.33883\n",
            "2/2 [==============================] - 0s 47ms/step - loss: 1.1252 - accuracy: 0.4400 - val_loss: 1.3393 - val_accuracy: 0.0769\n",
            "Epoch 4/50\n",
            "1/2 [==============>...............] - ETA: 0s - loss: 1.1841 - accuracy: 0.3125\n",
            "Epoch 4: val_loss improved from 1.33883 to 1.33844, saving model to saved_model/audio_classification.hdf5\n",
            "2/2 [==============================] - 0s 84ms/step - loss: 1.1725 - accuracy: 0.3200 - val_loss: 1.3384 - val_accuracy: 0.0769\n",
            "Epoch 5/50\n",
            "1/2 [==============>...............] - ETA: 0s - loss: 1.2504 - accuracy: 0.5625\n",
            "Epoch 5: val_loss improved from 1.33844 to 1.33727, saving model to saved_model/audio_classification.hdf5\n",
            "2/2 [==============================] - 0s 73ms/step - loss: 1.2146 - accuracy: 0.4800 - val_loss: 1.3373 - val_accuracy: 0.0769\n",
            "Epoch 6/50\n",
            "1/2 [==============>...............] - ETA: 0s - loss: 1.0729 - accuracy: 0.4375\n",
            "Epoch 6: val_loss improved from 1.33727 to 1.33644, saving model to saved_model/audio_classification.hdf5\n",
            "2/2 [==============================] - 0s 77ms/step - loss: 1.1421 - accuracy: 0.4400 - val_loss: 1.3364 - val_accuracy: 0.0769\n",
            "Epoch 7/50\n",
            "1/2 [==============>...............] - ETA: 0s - loss: 1.2890 - accuracy: 0.5312\n",
            "Epoch 7: val_loss improved from 1.33644 to 1.33619, saving model to saved_model/audio_classification.hdf5\n",
            "2/2 [==============================] - 0s 76ms/step - loss: 1.2449 - accuracy: 0.5200 - val_loss: 1.3362 - val_accuracy: 0.0769\n",
            "Epoch 8/50\n",
            "1/2 [==============>...............] - ETA: 0s - loss: 1.3764 - accuracy: 0.3750\n",
            "Epoch 8: val_loss improved from 1.33619 to 1.33600, saving model to saved_model/audio_classification.hdf5\n",
            "2/2 [==============================] - 0s 74ms/step - loss: 1.3076 - accuracy: 0.4200 - val_loss: 1.3360 - val_accuracy: 0.0769\n",
            "Epoch 9/50\n",
            "1/2 [==============>...............] - ETA: 0s - loss: 1.0345 - accuracy: 0.5000\n",
            "Epoch 9: val_loss improved from 1.33600 to 1.33589, saving model to saved_model/audio_classification.hdf5\n",
            "2/2 [==============================] - 0s 81ms/step - loss: 1.2329 - accuracy: 0.4600 - val_loss: 1.3359 - val_accuracy: 0.0769\n",
            "Epoch 10/50\n",
            "1/2 [==============>...............] - ETA: 0s - loss: 1.1960 - accuracy: 0.5000\n",
            "Epoch 10: val_loss improved from 1.33589 to 1.33562, saving model to saved_model/audio_classification.hdf5\n",
            "2/2 [==============================] - 0s 80ms/step - loss: 1.1723 - accuracy: 0.5400 - val_loss: 1.3356 - val_accuracy: 0.0769\n",
            "Epoch 11/50\n",
            "1/2 [==============>...............] - ETA: 0s - loss: 1.3949 - accuracy: 0.3750\n",
            "Epoch 11: val_loss improved from 1.33562 to 1.33549, saving model to saved_model/audio_classification.hdf5\n",
            "2/2 [==============================] - 0s 79ms/step - loss: 1.2688 - accuracy: 0.4000 - val_loss: 1.3355 - val_accuracy: 0.0769\n",
            "Epoch 12/50\n",
            "1/2 [==============>...............] - ETA: 0s - loss: 1.1882 - accuracy: 0.4688\n",
            "Epoch 12: val_loss did not improve from 1.33549\n",
            "2/2 [==============================] - 0s 70ms/step - loss: 1.1779 - accuracy: 0.4200 - val_loss: 1.3363 - val_accuracy: 0.0769\n",
            "Epoch 13/50\n",
            "1/2 [==============>...............] - ETA: 0s - loss: 1.5959 - accuracy: 0.3125\n",
            "Epoch 13: val_loss did not improve from 1.33549\n",
            "2/2 [==============================] - 0s 47ms/step - loss: 1.3702 - accuracy: 0.3400 - val_loss: 1.3364 - val_accuracy: 0.0769\n",
            "Epoch 14/50\n",
            "1/2 [==============>...............] - ETA: 0s - loss: 1.2615 - accuracy: 0.3438\n",
            "Epoch 14: val_loss did not improve from 1.33549\n",
            "2/2 [==============================] - 0s 45ms/step - loss: 1.3611 - accuracy: 0.3200 - val_loss: 1.3363 - val_accuracy: 0.0769\n",
            "Epoch 15/50\n",
            "1/2 [==============>...............] - ETA: 0s - loss: 1.2618 - accuracy: 0.4688\n",
            "Epoch 15: val_loss improved from 1.33549 to 1.33544, saving model to saved_model/audio_classification.hdf5\n",
            "2/2 [==============================] - 0s 112ms/step - loss: 1.1875 - accuracy: 0.4600 - val_loss: 1.3354 - val_accuracy: 0.0769\n",
            "Epoch 16/50\n",
            "1/2 [==============>...............] - ETA: 0s - loss: 1.2059 - accuracy: 0.4062\n",
            "Epoch 16: val_loss improved from 1.33544 to 1.33480, saving model to saved_model/audio_classification.hdf5\n",
            "2/2 [==============================] - 0s 83ms/step - loss: 1.1679 - accuracy: 0.4800 - val_loss: 1.3348 - val_accuracy: 0.0769\n",
            "Epoch 17/50\n",
            "1/2 [==============>...............] - ETA: 0s - loss: 1.0496 - accuracy: 0.5000\n",
            "Epoch 17: val_loss improved from 1.33480 to 1.33355, saving model to saved_model/audio_classification.hdf5\n",
            "2/2 [==============================] - 0s 100ms/step - loss: 1.1685 - accuracy: 0.4400 - val_loss: 1.3336 - val_accuracy: 0.0769\n",
            "Epoch 18/50\n",
            "1/2 [==============>...............] - ETA: 0s - loss: 1.1182 - accuracy: 0.4375\n",
            "Epoch 18: val_loss improved from 1.33355 to 1.33280, saving model to saved_model/audio_classification.hdf5\n",
            "2/2 [==============================] - 0s 81ms/step - loss: 1.0693 - accuracy: 0.4800 - val_loss: 1.3328 - val_accuracy: 0.0769\n",
            "Epoch 19/50\n",
            "1/2 [==============>...............] - ETA: 0s - loss: 1.3244 - accuracy: 0.3750\n",
            "Epoch 19: val_loss improved from 1.33280 to 1.33214, saving model to saved_model/audio_classification.hdf5\n",
            "2/2 [==============================] - 0s 88ms/step - loss: 1.1769 - accuracy: 0.4600 - val_loss: 1.3321 - val_accuracy: 0.0769\n",
            "Epoch 20/50\n",
            "1/2 [==============>...............] - ETA: 0s - loss: 1.3623 - accuracy: 0.4062\n",
            "Epoch 20: val_loss did not improve from 1.33214\n",
            "2/2 [==============================] - 0s 67ms/step - loss: 1.3795 - accuracy: 0.3400 - val_loss: 1.3333 - val_accuracy: 0.0769\n",
            "Epoch 21/50\n",
            "1/2 [==============>...............] - ETA: 0s - loss: 1.1922 - accuracy: 0.5000\n",
            "Epoch 21: val_loss did not improve from 1.33214\n",
            "2/2 [==============================] - 0s 42ms/step - loss: 1.2202 - accuracy: 0.4400 - val_loss: 1.3360 - val_accuracy: 0.0769\n",
            "Epoch 22/50\n",
            "1/2 [==============>...............] - ETA: 0s - loss: 1.2306 - accuracy: 0.4062\n",
            "Epoch 22: val_loss did not improve from 1.33214\n",
            "2/2 [==============================] - 0s 46ms/step - loss: 1.1558 - accuracy: 0.4200 - val_loss: 1.3385 - val_accuracy: 0.0769\n",
            "Epoch 23/50\n",
            "1/2 [==============>...............] - ETA: 0s - loss: 1.2159 - accuracy: 0.4688\n",
            "Epoch 23: val_loss did not improve from 1.33214\n",
            "2/2 [==============================] - 0s 49ms/step - loss: 1.1956 - accuracy: 0.4600 - val_loss: 1.3420 - val_accuracy: 0.0769\n",
            "Epoch 24/50\n",
            "1/2 [==============>...............] - ETA: 0s - loss: 1.1738 - accuracy: 0.4062\n",
            "Epoch 24: val_loss did not improve from 1.33214\n",
            "2/2 [==============================] - 0s 54ms/step - loss: 1.1795 - accuracy: 0.3600 - val_loss: 1.3447 - val_accuracy: 0.1538\n",
            "Epoch 25/50\n",
            "1/2 [==============>...............] - ETA: 0s - loss: 1.0560 - accuracy: 0.5625\n",
            "Epoch 25: val_loss did not improve from 1.33214\n",
            "2/2 [==============================] - 0s 66ms/step - loss: 1.1413 - accuracy: 0.5000 - val_loss: 1.3470 - val_accuracy: 0.1538\n",
            "Epoch 26/50\n",
            "1/2 [==============>...............] - ETA: 0s - loss: 1.3031 - accuracy: 0.4375\n",
            "Epoch 26: val_loss did not improve from 1.33214\n",
            "2/2 [==============================] - 0s 65ms/step - loss: 1.2722 - accuracy: 0.4200 - val_loss: 1.3480 - val_accuracy: 0.1538\n",
            "Epoch 27/50\n",
            "1/2 [==============>...............] - ETA: 0s - loss: 1.1991 - accuracy: 0.5625\n",
            "Epoch 27: val_loss did not improve from 1.33214\n",
            "2/2 [==============================] - 0s 56ms/step - loss: 1.1809 - accuracy: 0.5600 - val_loss: 1.3495 - val_accuracy: 0.1538\n",
            "Epoch 28/50\n",
            "1/2 [==============>...............] - ETA: 0s - loss: 1.1724 - accuracy: 0.5000\n",
            "Epoch 28: val_loss did not improve from 1.33214\n",
            "2/2 [==============================] - 0s 54ms/step - loss: 1.1476 - accuracy: 0.5000 - val_loss: 1.3505 - val_accuracy: 0.1538\n",
            "Epoch 29/50\n",
            "1/2 [==============>...............] - ETA: 0s - loss: 1.1555 - accuracy: 0.5000\n",
            "Epoch 29: val_loss did not improve from 1.33214\n",
            "2/2 [==============================] - 0s 31ms/step - loss: 1.2365 - accuracy: 0.4200 - val_loss: 1.3514 - val_accuracy: 0.1538\n",
            "Epoch 30/50\n",
            "1/2 [==============>...............] - ETA: 0s - loss: 1.3080 - accuracy: 0.4062\n",
            "Epoch 30: val_loss did not improve from 1.33214\n",
            "2/2 [==============================] - 0s 39ms/step - loss: 1.2611 - accuracy: 0.4000 - val_loss: 1.3532 - val_accuracy: 0.1538\n",
            "Epoch 31/50\n",
            "1/2 [==============>...............] - ETA: 0s - loss: 1.1996 - accuracy: 0.5000\n",
            "Epoch 31: val_loss did not improve from 1.33214\n",
            "2/2 [==============================] - 0s 38ms/step - loss: 1.1707 - accuracy: 0.4600 - val_loss: 1.3539 - val_accuracy: 0.1538\n",
            "Epoch 32/50\n",
            "1/2 [==============>...............] - ETA: 0s - loss: 1.3474 - accuracy: 0.4062\n",
            "Epoch 32: val_loss did not improve from 1.33214\n",
            "2/2 [==============================] - 0s 32ms/step - loss: 1.3413 - accuracy: 0.4000 - val_loss: 1.3544 - val_accuracy: 0.1538\n",
            "Epoch 33/50\n",
            "1/2 [==============>...............] - ETA: 0s - loss: 1.0672 - accuracy: 0.5000\n",
            "Epoch 33: val_loss did not improve from 1.33214\n",
            "2/2 [==============================] - 0s 38ms/step - loss: 1.1204 - accuracy: 0.4600 - val_loss: 1.3541 - val_accuracy: 0.1538\n",
            "Epoch 34/50\n",
            "1/2 [==============>...............] - ETA: 0s - loss: 1.0719 - accuracy: 0.5625\n",
            "Epoch 34: val_loss did not improve from 1.33214\n",
            "2/2 [==============================] - 0s 30ms/step - loss: 1.0721 - accuracy: 0.5200 - val_loss: 1.3540 - val_accuracy: 0.1538\n",
            "Epoch 35/50\n",
            "1/2 [==============>...............] - ETA: 0s - loss: 1.2140 - accuracy: 0.3750\n",
            "Epoch 35: val_loss did not improve from 1.33214\n",
            "2/2 [==============================] - 0s 32ms/step - loss: 1.2729 - accuracy: 0.4200 - val_loss: 1.3532 - val_accuracy: 0.1538\n",
            "Epoch 36/50\n",
            "1/2 [==============>...............] - ETA: 0s - loss: 1.2243 - accuracy: 0.4062\n",
            "Epoch 36: val_loss did not improve from 1.33214\n",
            "2/2 [==============================] - 0s 31ms/step - loss: 1.1776 - accuracy: 0.4600 - val_loss: 1.3518 - val_accuracy: 0.1538\n",
            "Epoch 37/50\n",
            "1/2 [==============>...............] - ETA: 0s - loss: 1.3154 - accuracy: 0.5000\n",
            "Epoch 37: val_loss did not improve from 1.33214\n",
            "2/2 [==============================] - 0s 32ms/step - loss: 1.2967 - accuracy: 0.4000 - val_loss: 1.3511 - val_accuracy: 0.1538\n",
            "Epoch 38/50\n",
            "1/2 [==============>...............] - ETA: 0s - loss: 1.0360 - accuracy: 0.5625\n",
            "Epoch 38: val_loss did not improve from 1.33214\n",
            "2/2 [==============================] - 0s 33ms/step - loss: 1.1317 - accuracy: 0.5600 - val_loss: 1.3498 - val_accuracy: 0.1538\n",
            "Epoch 39/50\n",
            "1/2 [==============>...............] - ETA: 0s - loss: 1.2153 - accuracy: 0.4062\n",
            "Epoch 39: val_loss did not improve from 1.33214\n",
            "2/2 [==============================] - 0s 32ms/step - loss: 1.2121 - accuracy: 0.4400 - val_loss: 1.3487 - val_accuracy: 0.1538\n",
            "Epoch 40/50\n",
            "1/2 [==============>...............] - ETA: 0s - loss: 1.0714 - accuracy: 0.4688\n",
            "Epoch 40: val_loss did not improve from 1.33214\n",
            "2/2 [==============================] - 0s 36ms/step - loss: 1.0367 - accuracy: 0.4800 - val_loss: 1.3488 - val_accuracy: 0.1538\n",
            "Epoch 41/50\n",
            "1/2 [==============>...............] - ETA: 0s - loss: 1.0734 - accuracy: 0.4375\n",
            "Epoch 41: val_loss did not improve from 1.33214\n",
            "2/2 [==============================] - 0s 32ms/step - loss: 1.1172 - accuracy: 0.4200 - val_loss: 1.3496 - val_accuracy: 0.1538\n",
            "Epoch 42/50\n",
            "1/2 [==============>...............] - ETA: 0s - loss: 1.0822 - accuracy: 0.4062\n",
            "Epoch 42: val_loss did not improve from 1.33214\n",
            "2/2 [==============================] - 0s 32ms/step - loss: 1.2098 - accuracy: 0.3400 - val_loss: 1.3500 - val_accuracy: 0.1538\n",
            "Epoch 43/50\n",
            "1/2 [==============>...............] - ETA: 0s - loss: 0.9243 - accuracy: 0.5938\n",
            "Epoch 43: val_loss did not improve from 1.33214\n",
            "2/2 [==============================] - 0s 32ms/step - loss: 1.2765 - accuracy: 0.4800 - val_loss: 1.3518 - val_accuracy: 0.1538\n",
            "Epoch 44/50\n",
            "1/2 [==============>...............] - ETA: 0s - loss: 1.1265 - accuracy: 0.5312\n",
            "Epoch 44: val_loss did not improve from 1.33214\n",
            "2/2 [==============================] - 0s 29ms/step - loss: 1.0496 - accuracy: 0.5400 - val_loss: 1.3535 - val_accuracy: 0.1538\n",
            "Epoch 45/50\n",
            "1/2 [==============>...............] - ETA: 0s - loss: 1.0330 - accuracy: 0.6250\n",
            "Epoch 45: val_loss did not improve from 1.33214\n",
            "2/2 [==============================] - 0s 49ms/step - loss: 1.1248 - accuracy: 0.5200 - val_loss: 1.3564 - val_accuracy: 0.1538\n",
            "Epoch 46/50\n",
            "1/2 [==============>...............] - ETA: 0s - loss: 1.1849 - accuracy: 0.4062\n",
            "Epoch 46: val_loss did not improve from 1.33214\n",
            "2/2 [==============================] - 0s 31ms/step - loss: 1.1066 - accuracy: 0.4800 - val_loss: 1.3587 - val_accuracy: 0.1538\n",
            "Epoch 47/50\n",
            "1/2 [==============>...............] - ETA: 0s - loss: 1.2310 - accuracy: 0.4375\n",
            "Epoch 47: val_loss did not improve from 1.33214\n",
            "2/2 [==============================] - 0s 33ms/step - loss: 1.1994 - accuracy: 0.4600 - val_loss: 1.3606 - val_accuracy: 0.1538\n",
            "Epoch 48/50\n",
            "1/2 [==============>...............] - ETA: 0s - loss: 1.3231 - accuracy: 0.2500\n",
            "Epoch 48: val_loss did not improve from 1.33214\n",
            "2/2 [==============================] - 0s 29ms/step - loss: 1.2380 - accuracy: 0.3400 - val_loss: 1.3614 - val_accuracy: 0.1538\n",
            "Epoch 49/50\n",
            "1/2 [==============>...............] - ETA: 0s - loss: 1.0664 - accuracy: 0.4375\n",
            "Epoch 49: val_loss did not improve from 1.33214\n",
            "2/2 [==============================] - 0s 39ms/step - loss: 1.1838 - accuracy: 0.4400 - val_loss: 1.3634 - val_accuracy: 0.1538\n",
            "Epoch 50/50\n",
            "1/2 [==============>...............] - ETA: 0s - loss: 1.1607 - accuracy: 0.4062\n",
            "Epoch 50: val_loss did not improve from 1.33214\n",
            "2/2 [==============================] - 0s 32ms/step - loss: 1.1704 - accuracy: 0.4200 - val_loss: 1.3650 - val_accuracy: 0.1538\n",
            "Training completed in time:  0:00:03.623196\n"
          ]
        }
      ]
    },
    {
      "cell_type": "code",
      "source": [
        "test_accuracy=model.evaluate(X_test,y_test,verbose=0)\n",
        "print(test_accuracy[1])"
      ],
      "metadata": {
        "colab": {
          "base_uri": "https://localhost:8080/"
        },
        "id": "O4j9fNV9cej9",
        "outputId": "146550e2-b665-4297-c743-d94d539b1889"
      },
      "execution_count": null,
      "outputs": [
        {
          "output_type": "stream",
          "name": "stdout",
          "text": [
            "0.1538461595773697\n"
          ]
        }
      ]
    },
    {
      "cell_type": "code",
      "source": [
        "filename=\"DeepShip-main/Cargo/15.wav\"\n",
        "prediction_feature=features_extractor(filename)\n",
        "prediction_feature=prediction_feature.reshape(1,-1)\n",
        "model.predict(prediction_feature)"
      ],
      "metadata": {
        "colab": {
          "base_uri": "https://localhost:8080/"
        },
        "id": "zpWnP7ZZdTN1",
        "outputId": "5222e88b-a8dd-4861-dde1-bbeda62435b2"
      },
      "execution_count": null,
      "outputs": [
        {
          "output_type": "stream",
          "name": "stdout",
          "text": [
            "1/1 [==============================] - 0s 87ms/step\n"
          ]
        },
        {
          "output_type": "execute_result",
          "data": {
            "text/plain": [
              "array([[0.266112  , 0.29211557, 0.2840162 , 0.15775627]], dtype=float32)"
            ]
          },
          "metadata": {},
          "execution_count": 136
        }
      ]
    },
    {
      "cell_type": "code",
      "source": [
        "from scipy.io import wavfile as wav\n",
        "wave_sample_rate, wave_audio=wav.read(filename)\n",
        "wave_sample_rate"
      ],
      "metadata": {
        "id": "ABXSb8Kig8Jj"
      },
      "execution_count": null,
      "outputs": []
    }
  ]
}